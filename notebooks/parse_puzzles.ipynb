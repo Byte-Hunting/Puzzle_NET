{
 "cells": [
  {
   "cell_type": "code",
   "execution_count": 1,
   "metadata": {},
   "outputs": [],
   "source": [
    "import pandas as pd"
   ]
  },
  {
   "cell_type": "code",
   "execution_count": 2,
   "metadata": {},
   "outputs": [],
   "source": [
    "\n",
    "cols = ['PuzzleId', 'FEN', 'Moves', 'Rating', 'RatingDeviation',\n",
    "        'Popularity', 'NbPlays', 'Themes']\n",
    "\n",
    "df = pd.read_csv('../data/lichess_db_puzzle.csv',\n",
    "                 names=cols,\n",
    "                 header=0,\n",
    "                 usecols=cols,            # <--- Ignore any extra columns\n",
    "                 on_bad_lines='skip',\n",
    "                 low_memory=False)"
   ]
  },
  {
   "cell_type": "code",
   "execution_count": 3,
   "metadata": {},
   "outputs": [
    {
     "data": {
      "text/plain": [
       "(3080528, 8)"
      ]
     },
     "execution_count": 3,
     "metadata": {},
     "output_type": "execute_result"
    }
   ],
   "source": [
    "df.shape"
   ]
  },
  {
   "cell_type": "code",
   "execution_count": 4,
   "metadata": {},
   "outputs": [
    {
     "data": {
      "text/html": [
       "<div>\n",
       "<style scoped>\n",
       "    .dataframe tbody tr th:only-of-type {\n",
       "        vertical-align: middle;\n",
       "    }\n",
       "\n",
       "    .dataframe tbody tr th {\n",
       "        vertical-align: top;\n",
       "    }\n",
       "\n",
       "    .dataframe thead th {\n",
       "        text-align: right;\n",
       "    }\n",
       "</style>\n",
       "<table border=\"1\" class=\"dataframe\">\n",
       "  <thead>\n",
       "    <tr style=\"text-align: right;\">\n",
       "      <th></th>\n",
       "      <th>PuzzleId</th>\n",
       "      <th>FEN</th>\n",
       "      <th>Moves</th>\n",
       "      <th>Rating</th>\n",
       "      <th>RatingDeviation</th>\n",
       "      <th>Popularity</th>\n",
       "      <th>NbPlays</th>\n",
       "      <th>Themes</th>\n",
       "    </tr>\n",
       "  </thead>\n",
       "  <tbody>\n",
       "    <tr>\n",
       "      <th>0</th>\n",
       "      <td>0000D</td>\n",
       "      <td>5rk1/1p3ppp/pq3b2/8/8/1P1Q1N2/P4PPP/3R2K1 w - ...</td>\n",
       "      <td>d3d6 f8d8 d6d8 f6d8</td>\n",
       "      <td>1513</td>\n",
       "      <td>74</td>\n",
       "      <td>96</td>\n",
       "      <td>16164</td>\n",
       "      <td>advantage endgame short</td>\n",
       "    </tr>\n",
       "    <tr>\n",
       "      <th>1</th>\n",
       "      <td>0009B</td>\n",
       "      <td>r2qr1k1/b1p2ppp/pp4n1/P1P1p3/4P1n1/B2P2Pb/3NBP...</td>\n",
       "      <td>b6c5 e2g4 h3g4 d1g4</td>\n",
       "      <td>1130</td>\n",
       "      <td>75</td>\n",
       "      <td>86</td>\n",
       "      <td>518</td>\n",
       "      <td>advantage middlegame short</td>\n",
       "    </tr>\n",
       "    <tr>\n",
       "      <th>2</th>\n",
       "      <td>000Vc</td>\n",
       "      <td>8/8/4k1p1/2KpP2p/5PP1/8/8/8 w - - 0 53</td>\n",
       "      <td>g4h5 g6h5 f4f5 e6e5 f5f6 e5f6</td>\n",
       "      <td>1495</td>\n",
       "      <td>155</td>\n",
       "      <td>100</td>\n",
       "      <td>14</td>\n",
       "      <td>crushing endgame long pawnEndgame</td>\n",
       "    </tr>\n",
       "    <tr>\n",
       "      <th>3</th>\n",
       "      <td>000Zo</td>\n",
       "      <td>4r3/1k6/pp3r2/1b2P2p/3R1p2/P1R2P2/1P4PP/6K1 w ...</td>\n",
       "      <td>e5f6 e8e1 g1f2 e1f1</td>\n",
       "      <td>1652</td>\n",
       "      <td>149</td>\n",
       "      <td>100</td>\n",
       "      <td>23</td>\n",
       "      <td>endgame mate mateIn2 short</td>\n",
       "    </tr>\n",
       "    <tr>\n",
       "      <th>4</th>\n",
       "      <td>000aY</td>\n",
       "      <td>r4rk1/pp3ppp/2n1b3/q1pp2B1/8/P1Q2NP1/1PP1PP1P/...</td>\n",
       "      <td>g5e7 a5c3 b2c3 c6e7</td>\n",
       "      <td>1436</td>\n",
       "      <td>76</td>\n",
       "      <td>86</td>\n",
       "      <td>489</td>\n",
       "      <td>advantage master middlegame short</td>\n",
       "    </tr>\n",
       "  </tbody>\n",
       "</table>\n",
       "</div>"
      ],
      "text/plain": [
       "  PuzzleId                                                FEN  \\\n",
       "0    0000D  5rk1/1p3ppp/pq3b2/8/8/1P1Q1N2/P4PPP/3R2K1 w - ...   \n",
       "1    0009B  r2qr1k1/b1p2ppp/pp4n1/P1P1p3/4P1n1/B2P2Pb/3NBP...   \n",
       "2    000Vc             8/8/4k1p1/2KpP2p/5PP1/8/8/8 w - - 0 53   \n",
       "3    000Zo  4r3/1k6/pp3r2/1b2P2p/3R1p2/P1R2P2/1P4PP/6K1 w ...   \n",
       "4    000aY  r4rk1/pp3ppp/2n1b3/q1pp2B1/8/P1Q2NP1/1PP1PP1P/...   \n",
       "\n",
       "                           Moves  Rating  RatingDeviation  Popularity  \\\n",
       "0            d3d6 f8d8 d6d8 f6d8    1513               74          96   \n",
       "1            b6c5 e2g4 h3g4 d1g4    1130               75          86   \n",
       "2  g4h5 g6h5 f4f5 e6e5 f5f6 e5f6    1495              155         100   \n",
       "3            e5f6 e8e1 g1f2 e1f1    1652              149         100   \n",
       "4            g5e7 a5c3 b2c3 c6e7    1436               76          86   \n",
       "\n",
       "   NbPlays                             Themes  \n",
       "0    16164            advantage endgame short  \n",
       "1      518         advantage middlegame short  \n",
       "2       14  crushing endgame long pawnEndgame  \n",
       "3       23         endgame mate mateIn2 short  \n",
       "4      489  advantage master middlegame short  "
      ]
     },
     "execution_count": 4,
     "metadata": {},
     "output_type": "execute_result"
    }
   ],
   "source": [
    "df.head()"
   ]
  },
  {
   "cell_type": "code",
   "execution_count": 5,
   "metadata": {},
   "outputs": [
    {
     "data": {
      "text/plain": [
       "PuzzleId           object\n",
       "FEN                object\n",
       "Moves              object\n",
       "Rating              int64\n",
       "RatingDeviation     int64\n",
       "Popularity          int64\n",
       "NbPlays             int64\n",
       "Themes             object\n",
       "dtype: object"
      ]
     },
     "execution_count": 5,
     "metadata": {},
     "output_type": "execute_result"
    }
   ],
   "source": [
    "df.dtypes"
   ]
  },
  {
   "cell_type": "code",
   "execution_count": 6,
   "metadata": {},
   "outputs": [],
   "source": [
    "df = df[['PuzzleId', 'FEN', 'Moves', 'Rating', 'Themes']].copy()"
   ]
  },
  {
   "cell_type": "code",
   "execution_count": 7,
   "metadata": {},
   "outputs": [],
   "source": [
    "df.columns = ['id', 'fen', 'moves', 'rating', 'themes']"
   ]
  },
  {
   "cell_type": "code",
   "execution_count": 8,
   "metadata": {},
   "outputs": [
    {
     "data": {
      "text/plain": [
       "id        0\n",
       "fen       0\n",
       "moves     0\n",
       "rating    0\n",
       "themes    0\n",
       "dtype: int64"
      ]
     },
     "execution_count": 8,
     "metadata": {},
     "output_type": "execute_result"
    }
   ],
   "source": [
    "df.isnull().sum()\n"
   ]
  },
  {
   "cell_type": "code",
   "execution_count": 9,
   "metadata": {},
   "outputs": [],
   "source": [
    "# df['moves'] = df['moves'].str.strip().str.split()\n",
    "# df['themes'] = df['themes'].str.strip().str.split()"
   ]
  },
  {
   "cell_type": "code",
   "execution_count": 10,
   "metadata": {},
   "outputs": [
    {
     "name": "stdout",
     "output_type": "stream",
     "text": [
      "d3d6 f8d8 d6d8 f6d8 <class 'str'>\n",
      "advantage endgame short <class 'str'>\n"
     ]
    }
   ],
   "source": [
    "# df['moves']\n",
    "print(df['moves'].iloc[0], type(df['moves'].iloc[0]))\n",
    "print(df['themes'].iloc[0], type(df['themes'].iloc[0]))"
   ]
  },
  {
   "cell_type": "code",
   "execution_count": 11,
   "metadata": {},
   "outputs": [
    {
     "data": {
      "text/plain": [
       "545"
      ]
     },
     "execution_count": 11,
     "metadata": {},
     "output_type": "execute_result"
    }
   ],
   "source": [
    "df['rating'].min()"
   ]
  },
  {
   "cell_type": "code",
   "execution_count": 12,
   "metadata": {},
   "outputs": [],
   "source": [
    "df = df[df['rating'] >= 1300].reset_index(drop=True)"
   ]
  },
  {
   "cell_type": "code",
   "execution_count": 13,
   "metadata": {},
   "outputs": [
    {
     "data": {
      "text/plain": [
       "(2030028, 5)"
      ]
     },
     "execution_count": 13,
     "metadata": {},
     "output_type": "execute_result"
    }
   ],
   "source": [
    "df.shape"
   ]
  },
  {
   "cell_type": "code",
   "execution_count": 14,
   "metadata": {},
   "outputs": [],
   "source": [
    "df.to_parquet(\"../data/puzzles_filtered.parquet\", engine=\"pyarrow\", index=False)"
   ]
  },
  {
   "cell_type": "code",
   "execution_count": 16,
   "metadata": {},
   "outputs": [
    {
     "name": "stdout",
     "output_type": "stream",
     "text": [
      "advantage endgame short <class 'str'>\n",
      "d3d6 f8d8 d6d8 f6d8 <class 'str'>\n"
     ]
    }
   ],
   "source": [
    "df2 = pd.read_parquet(\"../data/puzzles_filtered.parquet\")\n",
    "print(df2['themes'].iloc[0], type(df2['themes'].iloc[0]))\n",
    "print(df2['moves'].iloc[0], type(df2['moves'].iloc[0]))"
   ]
  },
  {
   "cell_type": "code",
   "execution_count": 17,
   "metadata": {},
   "outputs": [],
   "source": [
    "# import ast\n",
    "\n",
    "# if isinstance(df2['moves'].iloc[0], str):\n",
    "#     df2['moves'] = df2['moves'].apply(ast.literal_eval)\n",
    "\n",
    "df2['moves'] = df2['moves'].str.strip().str.split()\n",
    "\n",
    "df2['themes'] = df2['themes'].str.strip().str.split()\n"
   ]
  },
  {
   "cell_type": "code",
   "execution_count": 18,
   "metadata": {},
   "outputs": [
    {
     "name": "stdout",
     "output_type": "stream",
     "text": [
      "['d3d6', 'f8d8', 'd6d8', 'f6d8'] <class 'list'>\n",
      "['advantage', 'endgame', 'short'] <class 'list'>\n"
     ]
    }
   ],
   "source": [
    "print(df2['moves'].iloc[0], type(df2['moves'].iloc[0]))\n",
    "print(df2['themes'].iloc[0], type(df2['themes'].iloc[0]))"
   ]
  },
  {
   "cell_type": "code",
   "execution_count": 19,
   "metadata": {},
   "outputs": [
    {
     "data": {
      "text/html": [
       "<div>\n",
       "<style scoped>\n",
       "    .dataframe tbody tr th:only-of-type {\n",
       "        vertical-align: middle;\n",
       "    }\n",
       "\n",
       "    .dataframe tbody tr th {\n",
       "        vertical-align: top;\n",
       "    }\n",
       "\n",
       "    .dataframe thead th {\n",
       "        text-align: right;\n",
       "    }\n",
       "</style>\n",
       "<table border=\"1\" class=\"dataframe\">\n",
       "  <thead>\n",
       "    <tr style=\"text-align: right;\">\n",
       "      <th></th>\n",
       "      <th>id</th>\n",
       "      <th>fen</th>\n",
       "      <th>moves</th>\n",
       "      <th>rating</th>\n",
       "      <th>themes</th>\n",
       "    </tr>\n",
       "  </thead>\n",
       "  <tbody>\n",
       "    <tr>\n",
       "      <th>0</th>\n",
       "      <td>0000D</td>\n",
       "      <td>5rk1/1p3ppp/pq3b2/8/8/1P1Q1N2/P4PPP/3R2K1 w - ...</td>\n",
       "      <td>[d3d6, f8d8, d6d8, f6d8]</td>\n",
       "      <td>1513</td>\n",
       "      <td>[advantage, endgame, short]</td>\n",
       "    </tr>\n",
       "    <tr>\n",
       "      <th>1</th>\n",
       "      <td>000Vc</td>\n",
       "      <td>8/8/4k1p1/2KpP2p/5PP1/8/8/8 w - - 0 53</td>\n",
       "      <td>[g4h5, g6h5, f4f5, e6e5, f5f6, e5f6]</td>\n",
       "      <td>1495</td>\n",
       "      <td>[crushing, endgame, long, pawnEndgame]</td>\n",
       "    </tr>\n",
       "    <tr>\n",
       "      <th>2</th>\n",
       "      <td>000Zo</td>\n",
       "      <td>4r3/1k6/pp3r2/1b2P2p/3R1p2/P1R2P2/1P4PP/6K1 w ...</td>\n",
       "      <td>[e5f6, e8e1, g1f2, e1f1]</td>\n",
       "      <td>1652</td>\n",
       "      <td>[endgame, mate, mateIn2, short]</td>\n",
       "    </tr>\n",
       "    <tr>\n",
       "      <th>3</th>\n",
       "      <td>000aY</td>\n",
       "      <td>r4rk1/pp3ppp/2n1b3/q1pp2B1/8/P1Q2NP1/1PP1PP1P/...</td>\n",
       "      <td>[g5e7, a5c3, b2c3, c6e7]</td>\n",
       "      <td>1436</td>\n",
       "      <td>[advantage, master, middlegame, short]</td>\n",
       "    </tr>\n",
       "    <tr>\n",
       "      <th>4</th>\n",
       "      <td>000hf</td>\n",
       "      <td>r1bqk2r/pp1nbNp1/2p1p2p/8/2BP4/1PN3P1/P3QP1P/3...</td>\n",
       "      <td>[e8f7, e2e6, f7f8, e6f7]</td>\n",
       "      <td>1574</td>\n",
       "      <td>[mate, mateIn2, middlegame, short]</td>\n",
       "    </tr>\n",
       "  </tbody>\n",
       "</table>\n",
       "</div>"
      ],
      "text/plain": [
       "      id                                                fen  \\\n",
       "0  0000D  5rk1/1p3ppp/pq3b2/8/8/1P1Q1N2/P4PPP/3R2K1 w - ...   \n",
       "1  000Vc             8/8/4k1p1/2KpP2p/5PP1/8/8/8 w - - 0 53   \n",
       "2  000Zo  4r3/1k6/pp3r2/1b2P2p/3R1p2/P1R2P2/1P4PP/6K1 w ...   \n",
       "3  000aY  r4rk1/pp3ppp/2n1b3/q1pp2B1/8/P1Q2NP1/1PP1PP1P/...   \n",
       "4  000hf  r1bqk2r/pp1nbNp1/2p1p2p/8/2BP4/1PN3P1/P3QP1P/3...   \n",
       "\n",
       "                                  moves  rating  \\\n",
       "0              [d3d6, f8d8, d6d8, f6d8]    1513   \n",
       "1  [g4h5, g6h5, f4f5, e6e5, f5f6, e5f6]    1495   \n",
       "2              [e5f6, e8e1, g1f2, e1f1]    1652   \n",
       "3              [g5e7, a5c3, b2c3, c6e7]    1436   \n",
       "4              [e8f7, e2e6, f7f8, e6f7]    1574   \n",
       "\n",
       "                                   themes  \n",
       "0             [advantage, endgame, short]  \n",
       "1  [crushing, endgame, long, pawnEndgame]  \n",
       "2         [endgame, mate, mateIn2, short]  \n",
       "3  [advantage, master, middlegame, short]  \n",
       "4      [mate, mateIn2, middlegame, short]  "
      ]
     },
     "execution_count": 19,
     "metadata": {},
     "output_type": "execute_result"
    }
   ],
   "source": [
    "df2.head()"
   ]
  },
  {
   "cell_type": "code",
   "execution_count": 20,
   "metadata": {},
   "outputs": [],
   "source": [
    "# import chess\n",
    "# import chess.svg\n",
    "# fen = \"r6k/pp2r2p/4Rp1Q/3p4/8/1N1P2R1/PqP2bPP/7K b - - 0 24\"\n",
    "\n",
    "# board = chess.Board(fen)\n",
    "# chess.svg.board(board, size=300)"
   ]
  },
  {
   "cell_type": "code",
   "execution_count": null,
   "metadata": {},
   "outputs": [],
   "source": []
  }
 ],
 "metadata": {
  "kernelspec": {
   "display_name": "venv",
   "language": "python",
   "name": "python3"
  },
  "language_info": {
   "codemirror_mode": {
    "name": "ipython",
    "version": 3
   },
   "file_extension": ".py",
   "mimetype": "text/x-python",
   "name": "python",
   "nbconvert_exporter": "python",
   "pygments_lexer": "ipython3",
   "version": "3.10.18"
  }
 },
 "nbformat": 4,
 "nbformat_minor": 2
}
